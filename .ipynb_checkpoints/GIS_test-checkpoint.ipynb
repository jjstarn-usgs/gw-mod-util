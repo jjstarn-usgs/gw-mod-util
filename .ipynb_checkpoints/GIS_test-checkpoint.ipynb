{
 "cells": [
  {
   "cell_type": "markdown",
   "metadata": {},
   "source": [
    "# Create MODFLOW-grid-based tiff files and model_grid.csv file from GIS data sources"
   ]
  },
  {
   "cell_type": "code",
   "execution_count": null,
   "metadata": {
    "ExecuteTime": {
     "end_time": "2019-03-28T18:34:48.778556Z",
     "start_time": "2019-03-28T18:34:47.590996Z"
    }
   },
   "outputs": [],
   "source": [
    "import os\n",
    "import numpy as np\n",
    "import matplotlib.pyplot as plt\n",
    "\n",
    "import geopandas as gp\n",
    "import pandas as pd\n",
    "import Genmod_Utilities as gu\n",
    "from osgeo import gdal"
   ]
  },
  {
   "cell_type": "code",
   "execution_count": null,
   "metadata": {
    "ExecuteTime": {
     "end_time": "2019-03-28T18:34:48.786084Z",
     "start_time": "2019-03-28T18:34:48.780774Z"
    }
   },
   "outputs": [],
   "source": [
    "model_ws = '.\\GIS_test'\n",
    "os.getcwd()"
   ]
  },
  {
   "cell_type": "code",
   "execution_count": null,
   "metadata": {
    "ExecuteTime": {
     "end_time": "2019-03-28T18:35:51.320291Z",
     "start_time": "2019-03-28T18:35:49.477129Z"
    },
    "tags": []
   },
   "outputs": [],
   "source": [
    "src = os.path.join(model_ws, 'ned.tif')\n",
    "print(src)\n",
    "ned_ras = gu.SourceProcessing()\n",
    "ned_ras.read_raster(src)\n",
    "prj = ned_ras.output_raster_prj\n",
    "prj\n",
    "\n",
    "theta = -0.47801613305437707\n",
    "LX = LY = 304.8006096012192\n",
    "nrow, ncol = 180, 100\n",
    "origin = [1986043.37903465, 2445686.15016691]\n",
    "\n",
    "ras = gu.SourceProcessing()\n",
    "ras.create_raster(theta, origin, LX, LY, nrow, ncol, prj)\n",
    "\n",
    "src = os.path.join(model_ws, 'domain_outline.shp')\n",
    "ras.process_vector_data(src, 'ibound')\n",
    "ibound = ras.new_array\n",
    "dest = os.path.join(model_ws, 'tibound.tif')\n",
    "ras.write_raster(dest)\n",
    "\n",
    "src = os.path.join(model_ws, 'NHD_clip.shp')\n",
    "ras.process_vector_data(src, 'StreamOrde')\n",
    "stream = ras.new_array\n",
    "dest = os.path.join(model_ws, 'tstream_order.tif')\n",
    "ras.write_raster(dest)\n",
    "\n",
    "src = os.path.join(model_ws, 'lakes.shp')\n",
    "ras.process_vector_data(src, 'is_lake')\n",
    "lakes = ras.new_array\n",
    "dest = os.path.join(model_ws, 'tlake.tif')\n",
    "ras.write_raster(dest)\n",
    "\n",
    "fig, ax = plt.subplots(1, 3)\n",
    "ax[0].imshow(ibound)\n",
    "ax[1].imshow(stream)\n",
    "ax[2].imshow(lakes)\n",
    "\n",
    "src = os.path.join(model_ws, 'ned.tif')\n",
    "ras.process_raster_data(src, gdal.GRA_Bilinear, 0.01)\n",
    "ned = ras.new_array\n",
    "dest = os.path.join(model_ws, 'tned.tif')\n",
    "ras.write_raster(dest)\n",
    "\n",
    "src = os.path.join(model_ws, 'ned_mean.tif')\n",
    "ras.process_raster_data(src, gdal.GRA_Average, 0.01)\n",
    "ned_mean = ras.new_array\n",
    "dest = os.path.join(model_ws, 'tned_mean.tif')\n",
    "ras.write_raster(dest)\n",
    "\n",
    "src = os.path.join(model_ws, 'rch_eff_m_Reitz_2013.tif') \n",
    "ras.process_raster_data(src, gdal.GRA_Bilinear, 1.0)\n",
    "rch_eff_m_Reitz_2013 = ras.new_array\n",
    "dest = os.path.join(model_ws, 'trch_eff_m_Reitz_2013.tif')\n",
    "ras.write_raster(dest)\n",
    "\n",
    "fig, ax = plt.subplots(1, 3)\n",
    "ax[0].imshow(ned)\n",
    "ax[1].imshow(ned_mean)\n",
    "ax[2].imshow(rch_eff_m_Reitz_2013)\n",
    "\n",
    "ras.plot_raster(which_raster='new')"
   ]
  }
 ],
 "metadata": {
  "kernelspec": {
   "display_name": "Python [conda env:xarray]",
   "language": "python",
   "name": "conda-env-xarray-py"
  },
  "language_info": {
   "codemirror_mode": {
    "name": "ipython",
    "version": 3
   },
   "file_extension": ".py",
   "mimetype": "text/x-python",
   "name": "python",
   "nbconvert_exporter": "python",
   "pygments_lexer": "ipython3",
   "version": "3.9.6"
  },
  "latex_envs": {
   "LaTeX_envs_menu_present": true,
   "autoclose": false,
   "autocomplete": true,
   "bibliofile": "biblio.bib",
   "cite_by": "apalike",
   "current_citInitial": 1,
   "eqLabelWithNumbers": true,
   "eqNumInitial": 1,
   "hotkeys": {
    "equation": "Ctrl-E",
    "itemize": "Ctrl-I"
   },
   "labels_anchors": false,
   "latex_user_defs": false,
   "report_style_numbering": false,
   "user_envs_cfg": false
  },
  "toc": {
   "base_numbering": 1,
   "nav_menu": {},
   "number_sections": true,
   "sideBar": true,
   "skip_h1_title": false,
   "title_cell": "Table of Contents",
   "title_sidebar": "Contents",
   "toc_cell": false,
   "toc_position": {},
   "toc_section_display": true,
   "toc_window_display": false
  },
  "varInspector": {
   "cols": {
    "lenName": 16,
    "lenType": 16,
    "lenVar": 40
   },
   "kernels_config": {
    "python": {
     "delete_cmd_postfix": "",
     "delete_cmd_prefix": "del ",
     "library": "var_list.py",
     "varRefreshCmd": "print(var_dic_list())"
    },
    "r": {
     "delete_cmd_postfix": ") ",
     "delete_cmd_prefix": "rm(",
     "library": "var_list.r",
     "varRefreshCmd": "cat(var_dic_list()) "
    }
   },
   "types_to_exclude": [
    "module",
    "function",
    "builtin_function_or_method",
    "instance",
    "_Feature"
   ],
   "window_display": false
  },
  "widgets": {
   "state": {
    "f2d5c6d16450417aa02fa4289fef68c9": {
     "views": [
      {
       "cell_index": 5
      }
     ]
    }
   },
   "version": "1.2.0"
  }
 },
 "nbformat": 4,
 "nbformat_minor": 4
}
